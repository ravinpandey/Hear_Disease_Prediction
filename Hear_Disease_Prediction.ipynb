{
 "cells": [
  {
   "cell_type": "markdown",
   "id": "94eece75",
   "metadata": {},
   "source": [
    "# 1. Predicting Heart Disease using Machine Learnign Model\n",
    "\n",
    "This notebook looks into using various python-based machine learning and data science libraries in an attempt to build a machine learnign model capable of predicting whether or not someone has heart disease based on their medical attribute"
   ]
  },
  {
   "cell_type": "markdown",
   "id": "d8b6d7de",
   "metadata": {},
   "source": [
    "#  2. Data is taken from UCI machine learning repository\n",
    "age\n",
    "\n",
    "sex\n",
    "\n",
    "chest pain type (4 values)\n",
    "\n",
    "resting blood pressure\n",
    "\n",
    "serum cholestoral in mg/dl\n",
    "\n",
    "fasting blood sugar > 120 mg/dl\n",
    "\n",
    "resting electrocardiographic results (values 0,1,2)\n",
    "\n",
    "maximum heart rate achieved\n",
    "\n",
    "exercise induced angina\n",
    "\n",
    "oldpeak = ST depression induced by exercise relative to rest\n",
    "\n",
    "the slope of the peak exercise ST segment\n",
    "\n",
    "number of major vessels (0-3) colored by flourosopy\n",
    "\n",
    "thal: 0 = normal; 1 = fixed defect; 2 = reversable defect\n",
    "\n",
    "The names and social security numbers of the patients were recently removed from the database, replaced with dummy values.\n"
   ]
  },
  {
   "cell_type": "markdown",
   "id": "2006cf14",
   "metadata": {},
   "source": [
    "# 3. Evaluation\n",
    "\n",
    "if we can reach 95% accuracy at predicting wheteher or not a patient has heart disease during the proof of concept, We\"ll pursue the project."
   ]
  },
  {
   "cell_type": "markdown",
   "id": "5a20bdfc",
   "metadata": {},
   "source": [
    "# 4. Features "
   ]
  },
  {
   "cell_type": "markdown",
   "id": "3ce5eb07",
   "metadata": {},
   "source": [
    "# 5. Modelling"
   ]
  },
  {
   "cell_type": "markdown",
   "id": "0d3c4b32",
   "metadata": {},
   "source": [
    "# Solution"
   ]
  },
  {
   "cell_type": "code",
   "execution_count": null,
   "id": "86a1f519",
   "metadata": {},
   "outputs": [],
   "source": [
    "# Import all the tools we nee\n",
    "\n",
    "# Regular EDA and plotting libraries\n",
    "import numpy as np\n",
    "import pandas as pd\n",
    "import matplotlib.pyplot as plt\n",
    "import seaborn as sns\n",
    "\n",
    "%matplotlib inline \n",
    "#We want our plots to appear inside the notebook\n",
    "\n",
    "#Models from Scikit-Learn\n",
    "from sklearn.linear_model import LogisticRegression\n",
    "from sklearn.neighbors import KNeighborsClassifier\n",
    "from sklearn.ensemble import RandomForestClassifier\n",
    "\n",
    "# Model Evaluations\n",
    "from sklearn.model_selection import train_test_split, cross_val_score\n",
    "from sklearn.model_selection import RandomizedSearchCV, GridSearchCV\n",
    "from sklearn.metrics import confusion_matrix,classification_report\n",
    "from sklearn.metrics import precision_score,recall_score,f1_score\n",
    "from sklearn.metrics import plot_roc_curve"
   ]
  },
  {
   "cell_type": "code",
   "execution_count": null,
   "id": "55312165",
   "metadata": {},
   "outputs": [],
   "source": [
    "# read the data\n",
    "heart_data=pd.read_csv(\"heart-disease.csv\")"
   ]
  },
  {
   "cell_type": "code",
   "execution_count": null,
   "id": "208c4eb1",
   "metadata": {},
   "outputs": [],
   "source": [
    "heart_data.head()"
   ]
  },
  {
   "cell_type": "code",
   "execution_count": null,
   "id": "f66e6e21",
   "metadata": {},
   "outputs": [],
   "source": [
    "heart_data.dtypes"
   ]
  },
  {
   "cell_type": "code",
   "execution_count": null,
   "id": "a6105011",
   "metadata": {},
   "outputs": [],
   "source": [
    "heart_data.describe()"
   ]
  },
  {
   "cell_type": "code",
   "execution_count": null,
   "id": "4934666e",
   "metadata": {},
   "outputs": [],
   "source": [
    "heart_data.info()"
   ]
  },
  {
   "cell_type": "code",
   "execution_count": null,
   "id": "ee9e7d61",
   "metadata": {},
   "outputs": [],
   "source": [
    "heart_data.shape"
   ]
  },
  {
   "cell_type": "code",
   "execution_count": null,
   "id": "7ae144b4",
   "metadata": {},
   "outputs": [],
   "source": [
    "type(heart_data)"
   ]
  },
  {
   "cell_type": "code",
   "execution_count": null,
   "id": "d2a59a4c",
   "metadata": {},
   "outputs": [],
   "source": [
    "# analysis of Target values\n",
    "\n",
    "heart_data['target'].value_counts().plot(kind=\"bar\", color=[\"salmon\",\"lightblue\"]);"
   ]
  },
  {
   "cell_type": "markdown",
   "id": "63996dba",
   "metadata": {},
   "source": [
    "## Data Exploration(Exploratory Data Analysis or EDA)\n",
    "\n",
    "The Goal here is to find out more about the data and become a subject matter expert on the dataset u are working with.\n",
    "\n",
    "1. What questions you are trying to solve?\n",
    "2. What kind of data we have and how do we treat different data types?\n",
    "3. What's missing from the data and how deal with it?\n",
    "4. Where are the outliers and why should you care about them?\n",
    "5. How can you add, change or remove features to get more out of your data?\n",
    "\n"
   ]
  },
  {
   "cell_type": "code",
   "execution_count": null,
   "id": "bef42df4",
   "metadata": {},
   "outputs": [],
   "source": [
    "heart_data.sex.value_counts()"
   ]
  },
  {
   "cell_type": "code",
   "execution_count": null,
   "id": "fe97d087",
   "metadata": {},
   "outputs": [],
   "source": [
    "heart_data.isna().sum()"
   ]
  },
  {
   "cell_type": "markdown",
   "id": "e8b7250f",
   "metadata": {},
   "source": [
    "# since there is no missing value"
   ]
  },
  {
   "cell_type": "code",
   "execution_count": null,
   "id": "35f4c8af",
   "metadata": {},
   "outputs": [],
   "source": [
    "df=heart_data"
   ]
  },
  {
   "cell_type": "code",
   "execution_count": null,
   "id": "7fc575e2",
   "metadata": {},
   "outputs": [],
   "source": [
    "# Heart disease Frequency acoording to sex\n",
    "df.age.value_counts()"
   ]
  },
  {
   "cell_type": "code",
   "execution_count": null,
   "id": "84e40b37",
   "metadata": {},
   "outputs": [],
   "source": [
    "df.sex.value_counts()"
   ]
  },
  {
   "cell_type": "code",
   "execution_count": null,
   "id": "8313c923",
   "metadata": {},
   "outputs": [],
   "source": [
    "# compare target column with sex column\n",
    "pd.crosstab(df.target,df.sex)"
   ]
  },
  {
   "cell_type": "code",
   "execution_count": null,
   "id": "d6cca0ba",
   "metadata": {},
   "outputs": [],
   "source": [
    "pd.crosstab(df.target,df.sex).plot(kind=\"bar\",color=[\"salmon\",\"lightblue\"])\n",
    "plt.title(\"Heart_disease frequency according to sex\")\n",
    "plt.xlabel(\"0=No Disease, 1=Disease\")\n",
    "plt.ylabel(\"Amount\")\n",
    "plt.legend([\"Female\",\"Male\"])"
   ]
  },
  {
   "cell_type": "code",
   "execution_count": null,
   "id": "cbc05dad",
   "metadata": {},
   "outputs": [],
   "source": [
    "pd.crosstab(df.target,df.cp).plot(kind=\"bar\")\n",
    "plt.title(\"Heart_disease frequency according to Chest Pain\")\n",
    "plt.xlabel(\"0=No Disease, 1=Disease\")\n",
    "plt.ylabel(\"Amount\")\n",
    "#plt.legend([\"Female\",\"Male\"])"
   ]
  },
  {
   "cell_type": "code",
   "execution_count": null,
   "id": "78e767cc",
   "metadata": {},
   "outputs": [],
   "source": [
    "pd.crosstab(df.cp,df.target).plot(kind=\"bar\",color=[\"Salmon\",\"lightblue\"])\n",
    "plt.title(\"Heart_disease frequency according to Chest Pain\")\n",
    "plt.xlabel(\"Chest Pain Type\")\n",
    "plt.ylabel(\"Amount\")\n",
    "plt.legend([\"No Disease\",\"Disease\"]);"
   ]
  },
  {
   "cell_type": "code",
   "execution_count": null,
   "id": "208f4b64",
   "metadata": {},
   "outputs": [],
   "source": [
    "##  Age vs max_heart_rate for heart disease\n",
    "# create another figure\n",
    "plt.figure(figsize=(10,6))\n",
    "\n",
    "#scatter with positive example\n",
    "plt.scatter(df.age[df.target==1],df.thalach[df.target==1],c=\"Salmon\")\n",
    "\n",
    "#scatter with negative example\n",
    "plt.scatter(df.age[df.target==0],\n",
    "           df.thalach[df.target==0],c=\"lightblue\");\n",
    "\n",
    "#add some helpful info\n",
    "plt.title(\"Heart_Disease in function of age and max heart rate\")\n",
    "plt.xlabel(\"AGE\")\n",
    "plt.ylabel(\"Max_Heart Rate\")\n",
    "plt.legend([\"Disease\",\"No Disease\"])"
   ]
  },
  {
   "cell_type": "code",
   "execution_count": null,
   "id": "79bcb9da",
   "metadata": {},
   "outputs": [],
   "source": [
    "# Check the distribution of the age column with a histogram\n",
    "df.age.plot.hist();"
   ]
  },
  {
   "cell_type": "code",
   "execution_count": null,
   "id": "cafa616f",
   "metadata": {},
   "outputs": [],
   "source": [
    "# Make a correlation matrix \n",
    "df.corr()"
   ]
  },
  {
   "cell_type": "code",
   "execution_count": null,
   "id": "45b8bb26",
   "metadata": {},
   "outputs": [],
   "source": [
    "#Let's make our correlation matrix little prettier\n",
    "corr_matrix=df.corr()\n",
    "fig,ax=plt.subplots(figsize=(15,10))\n",
    "ax=sns.heatmap(corr_matrix,annot=True,linewidths=0.5,fmt=\".2f\",cmap=\"YlGnBu\");\n",
    "bottom,top=ax.get_ylim()\n",
    "ax.set_ylim(bottom+0.5,top-0.5);\n"
   ]
  },
  {
   "cell_type": "code",
   "execution_count": null,
   "id": "876b0127",
   "metadata": {},
   "outputs": [],
   "source": [
    "## Modelling\n",
    "#split data \n",
    "X=df.drop(\"target\",axis=1)\n",
    "Y=df['target']\n",
    "\n",
    "np.random.seed(43)\n",
    "#split data into train and test set\n",
    "X_train,X_test,Y_train,Y_test=train_test_split(X,Y,test_size=0.2)"
   ]
  },
  {
   "cell_type": "markdown",
   "id": "a043347e",
   "metadata": {},
   "source": [
    "#now we have got our train and test data \n",
    "# We are going to try 3 differen machine learning models\n",
    "\n",
    "1. Logistic Regression Model \n",
    "\n",
    "2. K-Nearest Neighbours Classifier\n",
    "\n",
    "3. Random Forest Classifier\n"
   ]
  },
  {
   "cell_type": "code",
   "execution_count": null,
   "id": "266e1d15",
   "metadata": {},
   "outputs": [],
   "source": [
    "# Put models in a dictionary\n",
    "models={\n",
    "    \"Logistic Regression \":LogisticRegression(),\n",
    "    \"KNN\":KNeighborsClassifier(),\n",
    "    \"Random Forest\":RandomForestClassifier()\n",
    "}\n",
    "\n",
    "#create a function to fit and score models\n",
    "def fit_and_score(models,X_train,X_test,Y_train,Y_test):\n",
    "    #set random seed\n",
    "    np.random.seed(47)\n",
    "    #make a dictionary to keep model scores\n",
    "    model_scores={}\n",
    "    #loop through models\n",
    "    for name,model in models.items():\n",
    "        #fit the model to the data\n",
    "        model.fit(X_train,Y_train)\n",
    "        #evaluate the model and append its score to model_scores\n",
    "        model_scores[name]=model.score(X_test,Y_test)\n",
    "    return model_scores\n"
   ]
  },
  {
   "cell_type": "code",
   "execution_count": null,
   "id": "a1c96d19",
   "metadata": {},
   "outputs": [],
   "source": [
    "model_scores=fit_and_score(models=models,\n",
    "                          X_train=X_train,\n",
    "                          Y_train=Y_train,\n",
    "                           X_test=X_test,\n",
    "                          Y_test=Y_test)\n",
    "model_scores"
   ]
  },
  {
   "cell_type": "markdown",
   "id": "f695fa26",
   "metadata": {},
   "source": [
    "# Model Comparision"
   ]
  },
  {
   "cell_type": "code",
   "execution_count": null,
   "id": "8138800f",
   "metadata": {},
   "outputs": [],
   "source": [
    "model_compare=pd.DataFrame(model_scores,index=[\"accuracy\"])\n",
    "model_compare.T.plot.bar()"
   ]
  },
  {
   "cell_type": "code",
   "execution_count": null,
   "id": "db853eb2",
   "metadata": {},
   "outputs": [],
   "source": [
    "#let's tune the KNN\n",
    "\n",
    "train_scores=[]\n",
    "test_scores=[]\n",
    "\n",
    "#create a list of different values for n neighbours\n",
    "neighbors=range(1,21)\n",
    "\n",
    "#set up KNN instance\n",
    "knn=KNeighborsClassifier()\n",
    "\n",
    "#loop through different n_neighbors\n",
    "for i in neighbors:\n",
    "    knn.set_params(n_neighbors=i)\n",
    "    #Fit the algorithm\n",
    "    knn.fit(X_train,Y_train)\n",
    "    \n",
    "    #update the training scores list\n",
    "    train_scores.append(knn.score(X_train,Y_train))\n",
    "    \n",
    "    #update the test scores list\n",
    "    test_scores.append(knn.score(X_test,Y_test))\n",
    "    \n",
    "    "
   ]
  },
  {
   "cell_type": "code",
   "execution_count": null,
   "id": "8b550764",
   "metadata": {},
   "outputs": [],
   "source": [
    "train_scores"
   ]
  },
  {
   "cell_type": "code",
   "execution_count": null,
   "id": "18198d2c",
   "metadata": {},
   "outputs": [],
   "source": [
    "test_scores"
   ]
  },
  {
   "cell_type": "code",
   "execution_count": null,
   "id": "ac5a0f63",
   "metadata": {},
   "outputs": [],
   "source": [
    "plt.plot(neighbors,train_scores,label=\"Train Score\")\n",
    "plt.plot(neighbors,test_scores,label=\"Test Score\")\n",
    "plt.xlabel(\"NUmber of Neighbors\")\n",
    "plt.ylabel(\"Model Score\")\n",
    "plt.legend()\n",
    "print(f\"maximum KNN score on the test data:{max(test_scores)*100:.2f}%\")"
   ]
  },
  {
   "cell_type": "markdown",
   "id": "153ceaf4",
   "metadata": {},
   "source": [
    "# Hyperparameter with RandomizedsearchCV\n"
   ]
  },
  {
   "cell_type": "code",
   "execution_count": null,
   "id": "82cc1ec5",
   "metadata": {},
   "outputs": [],
   "source": [
    "# Create a hyperparameter grid for Logistic Regression\n",
    "log_reg_grid={\n",
    "    \"C\":np.logspace(-4,4,20),\n",
    "    \"solver\":[\"liblinear\"]\n",
    "}\n",
    "\n",
    "# Create a hyperparameter grid for RandomForestClassifier\n",
    "rf_grid={\n",
    "    \"n_estimators\":np.arange(10,1000,50),\n",
    "    \"max_depth\":[None,3,5,10],\n",
    "    \"min_samples_split\":np.arange(2,20,2),\n",
    "    \"min_samples_leaf\":np.arange(1,20,2)\n",
    "}"
   ]
  },
  {
   "cell_type": "code",
   "execution_count": null,
   "id": "4730ccca",
   "metadata": {},
   "outputs": [],
   "source": [
    "# The Logistic Regression\n",
    "np.random.seed(42)\n",
    "\n",
    "# Setup random hyperparameter search for Logistic Regression\n",
    "rs_log_reg=RandomizedSearchCV(LogisticRegression(),\n",
    "                             param_distributions=log_reg_grid,\n",
    "                             cv=5,\n",
    "                             n_iter=20,\n",
    "                             verbose=True)\n",
    "\n",
    "#fit random hyperparameter search model for logistic regression\n",
    "rs_log_reg.fit(X_train,Y_train) "
   ]
  },
  {
   "cell_type": "code",
   "execution_count": null,
   "id": "3be895fd",
   "metadata": {},
   "outputs": [],
   "source": [
    "rs_log_reg.best_params_"
   ]
  },
  {
   "cell_type": "code",
   "execution_count": null,
   "id": "71cc0a35",
   "metadata": {},
   "outputs": [],
   "source": [
    "rs_log_reg.score(X_test,Y_test)\n"
   ]
  },
  {
   "cell_type": "markdown",
   "id": "5b9e132d",
   "metadata": {},
   "source": [
    "Now we have tuned logistic regression.let's do the same for RandomForestClassifier\n"
   ]
  },
  {
   "cell_type": "code",
   "execution_count": null,
   "id": "e2705df4",
   "metadata": {},
   "outputs": [],
   "source": [
    "#setup random seed \n",
    "np.random.seed(42)\n",
    "\n",
    "#setup random hyperparameter search for RandomForestClassifier\n",
    "rs_rf=RandomizedSearchCV(RandomForestClassifier(),\n",
    "                        param_distributions=rf_grid,\n",
    "                        cv=5,\n",
    "                        n_iter=20,\n",
    "                        verbose=True)\n",
    "# now train the model with training data\n",
    "\n",
    "rs_rf.fit(X_train,Y_train)"
   ]
  },
  {
   "cell_type": "code",
   "execution_count": null,
   "id": "ef2b40f3",
   "metadata": {},
   "outputs": [],
   "source": [
    "rs_rf.score(X_test,Y_test)"
   ]
  },
  {
   "cell_type": "code",
   "execution_count": null,
   "id": "22128cd3",
   "metadata": {},
   "outputs": [],
   "source": [
    "rs_rf.best_params_"
   ]
  },
  {
   "cell_type": "code",
   "execution_count": null,
   "id": "c56f7c0f",
   "metadata": {},
   "outputs": [],
   "source": [
    "model_scores"
   ]
  },
  {
   "cell_type": "markdown",
   "id": "f981bdbc",
   "metadata": {},
   "source": [
    "# Hyperparameter tuning with gridSearchCV\n",
    "Since our Logistic regression model provides the best score so far,we will try and improve them using GridSearchCV\n"
   ]
  },
  {
   "cell_type": "code",
   "execution_count": null,
   "id": "29c38171",
   "metadata": {},
   "outputs": [],
   "source": [
    "# different hyperparameter for our logistic regression  model\n",
    "log_reg_grid={\"C\":np.logspace(-4,4,30),\n",
    "             \"solver\":[\"liblinear\"]}\n",
    "#setup grid hyperparameter search fro logistic regression \n",
    "gs_log_reg=GridSearchCV(LogisticRegression(),\n",
    "                       param_grid=log_reg_grid,\n",
    "                       cv=5,\n",
    "                        verbose=True)\n",
    "#fit grid hyperparameter search model\n",
    "gs_log_reg.fit(X_train,Y_train)"
   ]
  },
  {
   "cell_type": "code",
   "execution_count": null,
   "id": "a4bfc64a",
   "metadata": {},
   "outputs": [],
   "source": [
    "gs_log_reg.best_params_"
   ]
  },
  {
   "cell_type": "code",
   "execution_count": null,
   "id": "d6f2bfa5",
   "metadata": {},
   "outputs": [],
   "source": [
    "gs_log_reg.score(X_test,Y_test)"
   ]
  },
  {
   "cell_type": "code",
   "execution_count": null,
   "id": "220f18f2",
   "metadata": {},
   "outputs": [],
   "source": []
  }
 ],
 "metadata": {
  "kernelspec": {
   "display_name": "Python 3 (ipykernel)",
   "language": "python",
   "name": "python3"
  },
  "language_info": {
   "codemirror_mode": {
    "name": "ipython",
    "version": 3
   },
   "file_extension": ".py",
   "mimetype": "text/x-python",
   "name": "python",
   "nbconvert_exporter": "python",
   "pygments_lexer": "ipython3",
   "version": "3.9.12"
  }
 },
 "nbformat": 4,
 "nbformat_minor": 5
}
